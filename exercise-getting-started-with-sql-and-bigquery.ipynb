{
 "cells": [
  {
   "cell_type": "markdown",
   "id": "00d962b8",
   "metadata": {
    "papermill": {
     "duration": 0.008514,
     "end_time": "2023-07-25T17:05:57.095657",
     "exception": false,
     "start_time": "2023-07-25T17:05:57.087143",
     "status": "completed"
    },
    "tags": []
   },
   "source": [
    "**This notebook is an exercise in the [SQL](https://www.kaggle.com/learn/intro-to-sql) course.  You can reference the tutorial at [this link](https://www.kaggle.com/dansbecker/getting-started-with-sql-and-bigquery).**\n",
    "\n",
    "---\n"
   ]
  },
  {
   "cell_type": "markdown",
   "id": "87059beb",
   "metadata": {
    "papermill": {
     "duration": 0.007194,
     "end_time": "2023-07-25T17:05:57.111092",
     "exception": false,
     "start_time": "2023-07-25T17:05:57.103898",
     "status": "completed"
    },
    "tags": []
   },
   "source": [
    "# Introduction\n",
    "\n",
    "The first test of your new data exploration skills uses data describing crime in the city of Chicago.\n",
    "\n",
    "Before you get started, run the following cell. It sets up the automated feedback system to review your answers."
   ]
  },
  {
   "cell_type": "code",
   "execution_count": 1,
   "id": "526cab8e",
   "metadata": {
    "execution": {
     "iopub.execute_input": "2023-07-25T17:05:57.128075Z",
     "iopub.status.busy": "2023-07-25T17:05:57.127611Z",
     "iopub.status.idle": "2023-07-25T17:05:58.282606Z",
     "shell.execute_reply": "2023-07-25T17:05:58.281008Z"
    },
    "papermill": {
     "duration": 1.167739,
     "end_time": "2023-07-25T17:05:58.286310",
     "exception": false,
     "start_time": "2023-07-25T17:05:57.118571",
     "status": "completed"
    },
    "tags": []
   },
   "outputs": [
    {
     "name": "stdout",
     "output_type": "stream",
     "text": [
      "Using Kaggle's public dataset BigQuery integration.\n",
      "Setup Complete\n"
     ]
    }
   ],
   "source": [
    "# Set up feedack system\n",
    "from learntools.core import binder\n",
    "binder.bind(globals())\n",
    "from learntools.sql.ex1 import *\n",
    "print(\"Setup Complete\")"
   ]
  },
  {
   "cell_type": "markdown",
   "id": "ad8f4ad2",
   "metadata": {
    "papermill": {
     "duration": 0.008057,
     "end_time": "2023-07-25T17:05:58.304213",
     "exception": false,
     "start_time": "2023-07-25T17:05:58.296156",
     "status": "completed"
    },
    "tags": []
   },
   "source": [
    "Use the next code cell to fetch the dataset."
   ]
  },
  {
   "cell_type": "code",
   "execution_count": 2,
   "id": "21400a50",
   "metadata": {
    "execution": {
     "iopub.execute_input": "2023-07-25T17:05:58.330111Z",
     "iopub.status.busy": "2023-07-25T17:05:58.329554Z",
     "iopub.status.idle": "2023-07-25T17:05:58.770587Z",
     "shell.execute_reply": "2023-07-25T17:05:58.769280Z"
    },
    "papermill": {
     "duration": 0.458609,
     "end_time": "2023-07-25T17:05:58.773589",
     "exception": false,
     "start_time": "2023-07-25T17:05:58.314980",
     "status": "completed"
    },
    "tags": []
   },
   "outputs": [
    {
     "name": "stdout",
     "output_type": "stream",
     "text": [
      "Using Kaggle's public dataset BigQuery integration.\n"
     ]
    }
   ],
   "source": [
    "from google.cloud import bigquery\n",
    "\n",
    "# Create a \"Client\" object\n",
    "client = bigquery.Client()\n",
    "\n",
    "# Construct a reference to the \"chicago_crime\" dataset\n",
    "dataset_ref = client.dataset(\"chicago_crime\", project=\"bigquery-public-data\")\n",
    "\n",
    "# API request - fetch the dataset\n",
    "dataset = client.get_dataset(dataset_ref)"
   ]
  },
  {
   "cell_type": "code",
   "execution_count": 3,
   "id": "da1ffa2e",
   "metadata": {
    "execution": {
     "iopub.execute_input": "2023-07-25T17:05:58.791366Z",
     "iopub.status.busy": "2023-07-25T17:05:58.790932Z",
     "iopub.status.idle": "2023-07-25T17:05:58.800281Z",
     "shell.execute_reply": "2023-07-25T17:05:58.798809Z"
    },
    "papermill": {
     "duration": 0.021436,
     "end_time": "2023-07-25T17:05:58.802942",
     "exception": false,
     "start_time": "2023-07-25T17:05:58.781506",
     "status": "completed"
    },
    "tags": []
   },
   "outputs": [
    {
     "data": {
      "text/plain": [
       "DatasetReference('bigquery-public-data', 'chicago_crime')"
      ]
     },
     "execution_count": 3,
     "metadata": {},
     "output_type": "execute_result"
    }
   ],
   "source": [
    "dataset_ref"
   ]
  },
  {
   "cell_type": "markdown",
   "id": "67591d88",
   "metadata": {
    "papermill": {
     "duration": 0.008017,
     "end_time": "2023-07-25T17:05:58.821742",
     "exception": false,
     "start_time": "2023-07-25T17:05:58.813725",
     "status": "completed"
    },
    "tags": []
   },
   "source": [
    "# Exercises\n",
    "\n",
    "### 1) Count tables in the dataset\n",
    "\n",
    "How many tables are in the Chicago Crime dataset?"
   ]
  },
  {
   "cell_type": "code",
   "execution_count": 4,
   "id": "cf5a71ef",
   "metadata": {
    "execution": {
     "iopub.execute_input": "2023-07-25T17:05:58.841231Z",
     "iopub.status.busy": "2023-07-25T17:05:58.840828Z",
     "iopub.status.idle": "2023-07-25T17:05:59.086155Z",
     "shell.execute_reply": "2023-07-25T17:05:59.084539Z"
    },
    "papermill": {
     "duration": 0.259205,
     "end_time": "2023-07-25T17:05:59.089174",
     "exception": false,
     "start_time": "2023-07-25T17:05:58.829969",
     "status": "completed"
    },
    "tags": []
   },
   "outputs": [
    {
     "name": "stdout",
     "output_type": "stream",
     "text": [
      "crime\n"
     ]
    }
   ],
   "source": [
    "# Write the code you need here to figure out the answer\n",
    "tables = client.list_tables(dataset)\n",
    "\n",
    "for table in tables:  \n",
    "    print(table.table_id)"
   ]
  },
  {
   "cell_type": "code",
   "execution_count": 5,
   "id": "61a188ed",
   "metadata": {
    "execution": {
     "iopub.execute_input": "2023-07-25T17:05:59.108120Z",
     "iopub.status.busy": "2023-07-25T17:05:59.107638Z",
     "iopub.status.idle": "2023-07-25T17:05:59.116694Z",
     "shell.execute_reply": "2023-07-25T17:05:59.115662Z"
    },
    "papermill": {
     "duration": 0.021843,
     "end_time": "2023-07-25T17:05:59.119154",
     "exception": false,
     "start_time": "2023-07-25T17:05:59.097311",
     "status": "completed"
    },
    "tags": []
   },
   "outputs": [
    {
     "data": {
      "application/javascript": [
       "parent.postMessage({\"jupyterEvent\": \"custom.exercise_interaction\", \"data\": {\"outcomeType\": 1, \"valueTowardsCompletion\": 0.3333333333333333, \"interactionType\": 1, \"questionType\": 1, \"questionId\": \"1_CountTables\", \"learnToolsVersion\": \"0.3.4\", \"failureMessage\": \"\", \"exceptionClass\": \"\", \"trace\": \"\"}}, \"*\")"
      ],
      "text/plain": [
       "<IPython.core.display.Javascript object>"
      ]
     },
     "metadata": {},
     "output_type": "display_data"
    },
    {
     "data": {
      "text/markdown": [
       "<span style=\"color:#33cc33\">Correct</span>"
      ],
      "text/plain": [
       "Correct"
      ]
     },
     "metadata": {},
     "output_type": "display_data"
    }
   ],
   "source": [
    "num_tables = 1  # Store the answer as num_tables and then run this cell\n",
    "\n",
    "# Check your answer\n",
    "q_1.check()"
   ]
  },
  {
   "cell_type": "markdown",
   "id": "1b2f0eb4",
   "metadata": {
    "papermill": {
     "duration": 0.008384,
     "end_time": "2023-07-25T17:05:59.136373",
     "exception": false,
     "start_time": "2023-07-25T17:05:59.127989",
     "status": "completed"
    },
    "tags": []
   },
   "source": [
    "For a hint or the solution, uncomment the appropriate line below."
   ]
  },
  {
   "cell_type": "code",
   "execution_count": 6,
   "id": "5c9fafda",
   "metadata": {
    "execution": {
     "iopub.execute_input": "2023-07-25T17:05:59.155755Z",
     "iopub.status.busy": "2023-07-25T17:05:59.155228Z",
     "iopub.status.idle": "2023-07-25T17:05:59.161168Z",
     "shell.execute_reply": "2023-07-25T17:05:59.159716Z"
    },
    "papermill": {
     "duration": 0.019089,
     "end_time": "2023-07-25T17:05:59.163896",
     "exception": false,
     "start_time": "2023-07-25T17:05:59.144807",
     "status": "completed"
    },
    "tags": []
   },
   "outputs": [],
   "source": [
    "#q_1.hint()\n",
    "#q_1.solution()"
   ]
  },
  {
   "cell_type": "markdown",
   "id": "3e76089b",
   "metadata": {
    "papermill": {
     "duration": 0.009286,
     "end_time": "2023-07-25T17:05:59.182516",
     "exception": false,
     "start_time": "2023-07-25T17:05:59.173230",
     "status": "completed"
    },
    "tags": []
   },
   "source": [
    "### 2) Explore the table schema\n",
    "\n",
    "How many columns in the `crime` table have `TIMESTAMP` data?"
   ]
  },
  {
   "cell_type": "code",
   "execution_count": 7,
   "id": "006b3b88",
   "metadata": {
    "execution": {
     "iopub.execute_input": "2023-07-25T17:05:59.203232Z",
     "iopub.status.busy": "2023-07-25T17:05:59.202680Z",
     "iopub.status.idle": "2023-07-25T17:05:59.501754Z",
     "shell.execute_reply": "2023-07-25T17:05:59.500356Z"
    },
    "papermill": {
     "duration": 0.313787,
     "end_time": "2023-07-25T17:05:59.504872",
     "exception": false,
     "start_time": "2023-07-25T17:05:59.191085",
     "status": "completed"
    },
    "tags": []
   },
   "outputs": [
    {
     "data": {
      "text/plain": [
       "[SchemaField('unique_key', 'INTEGER', 'REQUIRED', None, (), None),\n",
       " SchemaField('case_number', 'STRING', 'NULLABLE', None, (), None),\n",
       " SchemaField('date', 'TIMESTAMP', 'NULLABLE', None, (), None),\n",
       " SchemaField('block', 'STRING', 'NULLABLE', None, (), None),\n",
       " SchemaField('iucr', 'STRING', 'NULLABLE', None, (), None),\n",
       " SchemaField('primary_type', 'STRING', 'NULLABLE', None, (), None),\n",
       " SchemaField('description', 'STRING', 'NULLABLE', None, (), None),\n",
       " SchemaField('location_description', 'STRING', 'NULLABLE', None, (), None),\n",
       " SchemaField('arrest', 'BOOLEAN', 'NULLABLE', None, (), None),\n",
       " SchemaField('domestic', 'BOOLEAN', 'NULLABLE', None, (), None),\n",
       " SchemaField('beat', 'INTEGER', 'NULLABLE', None, (), None),\n",
       " SchemaField('district', 'INTEGER', 'NULLABLE', None, (), None),\n",
       " SchemaField('ward', 'INTEGER', 'NULLABLE', None, (), None),\n",
       " SchemaField('community_area', 'INTEGER', 'NULLABLE', None, (), None),\n",
       " SchemaField('fbi_code', 'STRING', 'NULLABLE', None, (), None),\n",
       " SchemaField('x_coordinate', 'FLOAT', 'NULLABLE', None, (), None),\n",
       " SchemaField('y_coordinate', 'FLOAT', 'NULLABLE', None, (), None),\n",
       " SchemaField('year', 'INTEGER', 'NULLABLE', None, (), None),\n",
       " SchemaField('updated_on', 'TIMESTAMP', 'NULLABLE', None, (), None),\n",
       " SchemaField('latitude', 'FLOAT', 'NULLABLE', None, (), None),\n",
       " SchemaField('longitude', 'FLOAT', 'NULLABLE', None, (), None),\n",
       " SchemaField('location', 'STRING', 'NULLABLE', None, (), None)]"
      ]
     },
     "execution_count": 7,
     "metadata": {},
     "output_type": "execute_result"
    }
   ],
   "source": [
    "# Write the code to figure out the answer\n",
    "table_ref = dataset_ref.table(\"crime\")\n",
    "table = client.get_table(table_ref)\n",
    "table.schema"
   ]
  },
  {
   "cell_type": "code",
   "execution_count": 8,
   "id": "7e518959",
   "metadata": {
    "execution": {
     "iopub.execute_input": "2023-07-25T17:05:59.525555Z",
     "iopub.status.busy": "2023-07-25T17:05:59.525086Z",
     "iopub.status.idle": "2023-07-25T17:05:59.532647Z",
     "shell.execute_reply": "2023-07-25T17:05:59.531356Z"
    },
    "papermill": {
     "duration": 0.021619,
     "end_time": "2023-07-25T17:05:59.535581",
     "exception": false,
     "start_time": "2023-07-25T17:05:59.513962",
     "status": "completed"
    },
    "tags": []
   },
   "outputs": [
    {
     "name": "stdout",
     "output_type": "stream",
     "text": [
      "2\n"
     ]
    }
   ],
   "source": [
    "i=0\n",
    "for value in table.schema:\n",
    "    if 'TIMESTAMP' in str(value):\n",
    "        i+=1\n",
    "print(i)"
   ]
  },
  {
   "cell_type": "code",
   "execution_count": 9,
   "id": "ad55e968",
   "metadata": {
    "execution": {
     "iopub.execute_input": "2023-07-25T17:05:59.556311Z",
     "iopub.status.busy": "2023-07-25T17:05:59.555876Z",
     "iopub.status.idle": "2023-07-25T17:05:59.567293Z",
     "shell.execute_reply": "2023-07-25T17:05:59.566101Z"
    },
    "papermill": {
     "duration": 0.025416,
     "end_time": "2023-07-25T17:05:59.570396",
     "exception": false,
     "start_time": "2023-07-25T17:05:59.544980",
     "status": "completed"
    },
    "tags": []
   },
   "outputs": [
    {
     "data": {
      "application/javascript": [
       "parent.postMessage({\"jupyterEvent\": \"custom.exercise_interaction\", \"data\": {\"outcomeType\": 1, \"valueTowardsCompletion\": 0.3333333333333333, \"interactionType\": 1, \"questionType\": 1, \"questionId\": \"2_CountTimestampFields\", \"learnToolsVersion\": \"0.3.4\", \"failureMessage\": \"\", \"exceptionClass\": \"\", \"trace\": \"\"}}, \"*\")"
      ],
      "text/plain": [
       "<IPython.core.display.Javascript object>"
      ]
     },
     "metadata": {},
     "output_type": "display_data"
    },
    {
     "data": {
      "text/markdown": [
       "<span style=\"color:#33cc33\">Correct</span>"
      ],
      "text/plain": [
       "Correct"
      ]
     },
     "metadata": {},
     "output_type": "display_data"
    }
   ],
   "source": [
    "num_timestamp_fields = 2 # Put your answer here\n",
    "\n",
    "# Check your answer\n",
    "q_2.check()"
   ]
  },
  {
   "cell_type": "markdown",
   "id": "129480a4",
   "metadata": {
    "papermill": {
     "duration": 0.008755,
     "end_time": "2023-07-25T17:05:59.588511",
     "exception": false,
     "start_time": "2023-07-25T17:05:59.579756",
     "status": "completed"
    },
    "tags": []
   },
   "source": [
    "For a hint or the solution, uncomment the appropriate line below."
   ]
  },
  {
   "cell_type": "code",
   "execution_count": 10,
   "id": "add9bb96",
   "metadata": {
    "execution": {
     "iopub.execute_input": "2023-07-25T17:05:59.608930Z",
     "iopub.status.busy": "2023-07-25T17:05:59.608556Z",
     "iopub.status.idle": "2023-07-25T17:05:59.612734Z",
     "shell.execute_reply": "2023-07-25T17:05:59.611525Z"
    },
    "papermill": {
     "duration": 0.017928,
     "end_time": "2023-07-25T17:05:59.615596",
     "exception": false,
     "start_time": "2023-07-25T17:05:59.597668",
     "status": "completed"
    },
    "tags": []
   },
   "outputs": [],
   "source": [
    "#q_2.hint()\n",
    "#q_2.solution()"
   ]
  },
  {
   "cell_type": "markdown",
   "id": "66a17317",
   "metadata": {
    "papermill": {
     "duration": 0.009267,
     "end_time": "2023-07-25T17:05:59.634949",
     "exception": false,
     "start_time": "2023-07-25T17:05:59.625682",
     "status": "completed"
    },
    "tags": []
   },
   "source": [
    "### 3) Create a crime map\n",
    "\n",
    "If you wanted to create a map with a dot at the location of each crime, what are the names of the two fields you likely need to pull out of the `crime` table to plot the crimes on a map?"
   ]
  },
  {
   "cell_type": "code",
   "execution_count": 11,
   "id": "b97f6fef",
   "metadata": {
    "execution": {
     "iopub.execute_input": "2023-07-25T17:05:59.656123Z",
     "iopub.status.busy": "2023-07-25T17:05:59.655472Z",
     "iopub.status.idle": "2023-07-25T17:06:00.351413Z",
     "shell.execute_reply": "2023-07-25T17:06:00.350457Z"
    },
    "papermill": {
     "duration": 0.709449,
     "end_time": "2023-07-25T17:06:00.353749",
     "exception": false,
     "start_time": "2023-07-25T17:05:59.644300",
     "status": "completed"
    },
    "tags": []
   },
   "outputs": [
    {
     "data": {
      "text/html": [
       "<div>\n",
       "<style scoped>\n",
       "    .dataframe tbody tr th:only-of-type {\n",
       "        vertical-align: middle;\n",
       "    }\n",
       "\n",
       "    .dataframe tbody tr th {\n",
       "        vertical-align: top;\n",
       "    }\n",
       "\n",
       "    .dataframe thead th {\n",
       "        text-align: right;\n",
       "    }\n",
       "</style>\n",
       "<table border=\"1\" class=\"dataframe\">\n",
       "  <thead>\n",
       "    <tr style=\"text-align: right;\">\n",
       "      <th></th>\n",
       "      <th>unique_key</th>\n",
       "      <th>case_number</th>\n",
       "      <th>date</th>\n",
       "      <th>block</th>\n",
       "      <th>iucr</th>\n",
       "      <th>primary_type</th>\n",
       "      <th>description</th>\n",
       "      <th>location_description</th>\n",
       "      <th>arrest</th>\n",
       "      <th>domestic</th>\n",
       "      <th>...</th>\n",
       "      <th>ward</th>\n",
       "      <th>community_area</th>\n",
       "      <th>fbi_code</th>\n",
       "      <th>x_coordinate</th>\n",
       "      <th>y_coordinate</th>\n",
       "      <th>year</th>\n",
       "      <th>updated_on</th>\n",
       "      <th>latitude</th>\n",
       "      <th>longitude</th>\n",
       "      <th>location</th>\n",
       "    </tr>\n",
       "  </thead>\n",
       "  <tbody>\n",
       "    <tr>\n",
       "      <th>0</th>\n",
       "      <td>20294</td>\n",
       "      <td>HV178038</td>\n",
       "      <td>2012-02-29 06:51:00+00:00</td>\n",
       "      <td>005XX E 104TH PL</td>\n",
       "      <td>0110</td>\n",
       "      <td>HOMICIDE</td>\n",
       "      <td>FIRST DEGREE MURDER</td>\n",
       "      <td>HOUSE</td>\n",
       "      <td>False</td>\n",
       "      <td>False</td>\n",
       "      <td>...</td>\n",
       "      <td>9.0</td>\n",
       "      <td>49.0</td>\n",
       "      <td>01A</td>\n",
       "      <td>1181956.0</td>\n",
       "      <td>1835794.0</td>\n",
       "      <td>2012</td>\n",
       "      <td>2022-08-31 04:51:30+00:00</td>\n",
       "      <td>41.704641</td>\n",
       "      <td>-87.609313</td>\n",
       "      <td>(41.704641317, -87.609312999)</td>\n",
       "    </tr>\n",
       "    <tr>\n",
       "      <th>1</th>\n",
       "      <td>1646204</td>\n",
       "      <td>G427900</td>\n",
       "      <td>2001-07-21 10:36:13+00:00</td>\n",
       "      <td>0000X W 105 ST</td>\n",
       "      <td>0281</td>\n",
       "      <td>CRIM SEXUAL ASSAULT</td>\n",
       "      <td>NON-AGGRAVATED</td>\n",
       "      <td>RESIDENCE</td>\n",
       "      <td>False</td>\n",
       "      <td>False</td>\n",
       "      <td>...</td>\n",
       "      <td>NaN</td>\n",
       "      <td>NaN</td>\n",
       "      <td>02</td>\n",
       "      <td>1177506.0</td>\n",
       "      <td>1835377.0</td>\n",
       "      <td>2001</td>\n",
       "      <td>2015-08-17 03:03:40+00:00</td>\n",
       "      <td>41.703599</td>\n",
       "      <td>-87.625621</td>\n",
       "      <td>(41.703598521, -87.625620709)</td>\n",
       "    </tr>\n",
       "    <tr>\n",
       "      <th>2</th>\n",
       "      <td>11510646</td>\n",
       "      <td>JB520364</td>\n",
       "      <td>2018-11-18 07:10:00+00:00</td>\n",
       "      <td>104XX S MARYLAND AVE</td>\n",
       "      <td>0281</td>\n",
       "      <td>CRIM SEXUAL ASSAULT</td>\n",
       "      <td>NON-AGGRAVATED</td>\n",
       "      <td>APARTMENT</td>\n",
       "      <td>True</td>\n",
       "      <td>False</td>\n",
       "      <td>...</td>\n",
       "      <td>9.0</td>\n",
       "      <td>50.0</td>\n",
       "      <td>02</td>\n",
       "      <td>1183753.0</td>\n",
       "      <td>1835876.0</td>\n",
       "      <td>2018</td>\n",
       "      <td>2018-11-25 04:09:36+00:00</td>\n",
       "      <td>41.704825</td>\n",
       "      <td>-87.602730</td>\n",
       "      <td>(41.704824688, -87.60273016)</td>\n",
       "    </tr>\n",
       "    <tr>\n",
       "      <th>3</th>\n",
       "      <td>10389703</td>\n",
       "      <td>HZ126642</td>\n",
       "      <td>2016-01-24 03:30:00+00:00</td>\n",
       "      <td>105XX S CALUMET AVE</td>\n",
       "      <td>0281</td>\n",
       "      <td>CRIM SEXUAL ASSAULT</td>\n",
       "      <td>NON-AGGRAVATED</td>\n",
       "      <td>RESIDENCE</td>\n",
       "      <td>False</td>\n",
       "      <td>True</td>\n",
       "      <td>...</td>\n",
       "      <td>9.0</td>\n",
       "      <td>49.0</td>\n",
       "      <td>02</td>\n",
       "      <td>1180441.0</td>\n",
       "      <td>1835252.0</td>\n",
       "      <td>2016</td>\n",
       "      <td>2018-02-10 03:50:01+00:00</td>\n",
       "      <td>41.703189</td>\n",
       "      <td>-87.614877</td>\n",
       "      <td>(41.703188815, -87.614877226)</td>\n",
       "    </tr>\n",
       "    <tr>\n",
       "      <th>4</th>\n",
       "      <td>7496492</td>\n",
       "      <td>HS298922</td>\n",
       "      <td>2010-05-08 07:00:00+00:00</td>\n",
       "      <td>103XX S MICHIGAN AVE</td>\n",
       "      <td>0312</td>\n",
       "      <td>ROBBERY</td>\n",
       "      <td>ARMED:KNIFE/CUTTING INSTRUMENT</td>\n",
       "      <td>STREET</td>\n",
       "      <td>False</td>\n",
       "      <td>False</td>\n",
       "      <td>...</td>\n",
       "      <td>9.0</td>\n",
       "      <td>49.0</td>\n",
       "      <td>03</td>\n",
       "      <td>1178964.0</td>\n",
       "      <td>1836624.0</td>\n",
       "      <td>2010</td>\n",
       "      <td>2018-02-10 03:50:01+00:00</td>\n",
       "      <td>41.706987</td>\n",
       "      <td>-87.620244</td>\n",
       "      <td>(41.706987456, -87.620244029)</td>\n",
       "    </tr>\n",
       "  </tbody>\n",
       "</table>\n",
       "<p>5 rows × 22 columns</p>\n",
       "</div>"
      ],
      "text/plain": [
       "   unique_key case_number                      date                 block  \\\n",
       "0       20294    HV178038 2012-02-29 06:51:00+00:00      005XX E 104TH PL   \n",
       "1     1646204     G427900 2001-07-21 10:36:13+00:00        0000X W 105 ST   \n",
       "2    11510646    JB520364 2018-11-18 07:10:00+00:00  104XX S MARYLAND AVE   \n",
       "3    10389703    HZ126642 2016-01-24 03:30:00+00:00   105XX S CALUMET AVE   \n",
       "4     7496492    HS298922 2010-05-08 07:00:00+00:00  103XX S MICHIGAN AVE   \n",
       "\n",
       "   iucr         primary_type                     description  \\\n",
       "0  0110             HOMICIDE             FIRST DEGREE MURDER   \n",
       "1  0281  CRIM SEXUAL ASSAULT                  NON-AGGRAVATED   \n",
       "2  0281  CRIM SEXUAL ASSAULT                  NON-AGGRAVATED   \n",
       "3  0281  CRIM SEXUAL ASSAULT                  NON-AGGRAVATED   \n",
       "4  0312              ROBBERY  ARMED:KNIFE/CUTTING INSTRUMENT   \n",
       "\n",
       "  location_description  arrest  domestic  ...  ward  community_area  fbi_code  \\\n",
       "0                HOUSE   False     False  ...   9.0            49.0       01A   \n",
       "1            RESIDENCE   False     False  ...   NaN             NaN        02   \n",
       "2            APARTMENT    True     False  ...   9.0            50.0        02   \n",
       "3            RESIDENCE   False      True  ...   9.0            49.0        02   \n",
       "4               STREET   False     False  ...   9.0            49.0        03   \n",
       "\n",
       "   x_coordinate y_coordinate  year                updated_on   latitude  \\\n",
       "0     1181956.0    1835794.0  2012 2022-08-31 04:51:30+00:00  41.704641   \n",
       "1     1177506.0    1835377.0  2001 2015-08-17 03:03:40+00:00  41.703599   \n",
       "2     1183753.0    1835876.0  2018 2018-11-25 04:09:36+00:00  41.704825   \n",
       "3     1180441.0    1835252.0  2016 2018-02-10 03:50:01+00:00  41.703189   \n",
       "4     1178964.0    1836624.0  2010 2018-02-10 03:50:01+00:00  41.706987   \n",
       "\n",
       "   longitude                       location  \n",
       "0 -87.609313  (41.704641317, -87.609312999)  \n",
       "1 -87.625621  (41.703598521, -87.625620709)  \n",
       "2 -87.602730   (41.704824688, -87.60273016)  \n",
       "3 -87.614877  (41.703188815, -87.614877226)  \n",
       "4 -87.620244  (41.706987456, -87.620244029)  \n",
       "\n",
       "[5 rows x 22 columns]"
      ]
     },
     "execution_count": 11,
     "metadata": {},
     "output_type": "execute_result"
    }
   ],
   "source": [
    "# Write the code here to explore the data so you can find the answer\n",
    "client.list_rows(table, max_results=5).to_dataframe()"
   ]
  },
  {
   "cell_type": "code",
   "execution_count": 12,
   "id": "322a87c0",
   "metadata": {
    "execution": {
     "iopub.execute_input": "2023-07-25T17:06:00.376415Z",
     "iopub.status.busy": "2023-07-25T17:06:00.375218Z",
     "iopub.status.idle": "2023-07-25T17:06:00.389504Z",
     "shell.execute_reply": "2023-07-25T17:06:00.388231Z"
    },
    "papermill": {
     "duration": 0.028531,
     "end_time": "2023-07-25T17:06:00.392046",
     "exception": false,
     "start_time": "2023-07-25T17:06:00.363515",
     "status": "completed"
    },
    "tags": []
   },
   "outputs": [
    {
     "name": "stdout",
     "output_type": "stream",
     "text": [
      "`'latitude'` and `'longitude'` would be better and more standard than `'x_coordinate'` and `'y_coordinate'`, but this might work.\n"
     ]
    },
    {
     "data": {
      "application/javascript": [
       "parent.postMessage({\"jupyterEvent\": \"custom.exercise_interaction\", \"data\": {\"outcomeType\": 1, \"valueTowardsCompletion\": 0.3333333333333333, \"interactionType\": 1, \"questionType\": 2, \"questionId\": \"3_IdentifyFieldsForPlotting\", \"learnToolsVersion\": \"0.3.4\", \"failureMessage\": \"\", \"exceptionClass\": \"\", \"trace\": \"\"}}, \"*\")"
      ],
      "text/plain": [
       "<IPython.core.display.Javascript object>"
      ]
     },
     "metadata": {},
     "output_type": "display_data"
    },
    {
     "data": {
      "text/markdown": [
       "<span style=\"color:#33cc33\">Correct</span>"
      ],
      "text/plain": [
       "Correct"
      ]
     },
     "metadata": {},
     "output_type": "display_data"
    }
   ],
   "source": [
    "fields_for_plotting =['x_coordinate', 'y_coordinate']# Put your answers here\n",
    "\n",
    "# Check your answer\n",
    "q_3.check()"
   ]
  },
  {
   "cell_type": "markdown",
   "id": "e275dd91",
   "metadata": {
    "papermill": {
     "duration": 0.010008,
     "end_time": "2023-07-25T17:06:00.412423",
     "exception": false,
     "start_time": "2023-07-25T17:06:00.402415",
     "status": "completed"
    },
    "tags": []
   },
   "source": [
    "For a hint or the solution, uncomment the appropriate line below."
   ]
  },
  {
   "cell_type": "code",
   "execution_count": 13,
   "id": "44556321",
   "metadata": {
    "execution": {
     "iopub.execute_input": "2023-07-25T17:06:00.434876Z",
     "iopub.status.busy": "2023-07-25T17:06:00.434366Z",
     "iopub.status.idle": "2023-07-25T17:06:00.440122Z",
     "shell.execute_reply": "2023-07-25T17:06:00.438796Z"
    },
    "papermill": {
     "duration": 0.019928,
     "end_time": "2023-07-25T17:06:00.442564",
     "exception": false,
     "start_time": "2023-07-25T17:06:00.422636",
     "status": "completed"
    },
    "tags": []
   },
   "outputs": [],
   "source": [
    "#q_3.hint()\n",
    "#q_3.solution()"
   ]
  },
  {
   "cell_type": "markdown",
   "id": "788c433e",
   "metadata": {
    "papermill": {
     "duration": 0.010038,
     "end_time": "2023-07-25T17:06:00.462970",
     "exception": false,
     "start_time": "2023-07-25T17:06:00.452932",
     "status": "completed"
    },
    "tags": []
   },
   "source": [
    "Thinking about the question above, there are a few columns that appear to have geographic data. Look at a few values (with the `list_rows()` command) to see if you can determine their relationship.  Two columns will still be hard to interpret. But it should be obvious how the `location` column relates to `latitude` and `longitude`."
   ]
  },
  {
   "cell_type": "code",
   "execution_count": 14,
   "id": "19db2826",
   "metadata": {
    "execution": {
     "iopub.execute_input": "2023-07-25T17:06:00.485866Z",
     "iopub.status.busy": "2023-07-25T17:06:00.485409Z",
     "iopub.status.idle": "2023-07-25T17:06:00.490570Z",
     "shell.execute_reply": "2023-07-25T17:06:00.489373Z"
    },
    "papermill": {
     "duration": 0.019334,
     "end_time": "2023-07-25T17:06:00.493012",
     "exception": false,
     "start_time": "2023-07-25T17:06:00.473678",
     "status": "completed"
    },
    "tags": []
   },
   "outputs": [],
   "source": [
    "# Scratch space for your code"
   ]
  },
  {
   "cell_type": "markdown",
   "id": "f526b882",
   "metadata": {
    "papermill": {
     "duration": 0.010168,
     "end_time": "2023-07-25T17:06:00.513751",
     "exception": false,
     "start_time": "2023-07-25T17:06:00.503583",
     "status": "completed"
    },
    "tags": []
   },
   "source": [
    "# Keep going\n",
    "\n",
    "You've looked at the schema, but you haven't yet done anything exciting with the data itself. Things get more interesting when you get to the data, so keep going to **[write your first SQL query](https://www.kaggle.com/dansbecker/select-from-where).**"
   ]
  },
  {
   "cell_type": "markdown",
   "id": "d73ef1e5",
   "metadata": {
    "papermill": {
     "duration": 0.010317,
     "end_time": "2023-07-25T17:06:00.534332",
     "exception": false,
     "start_time": "2023-07-25T17:06:00.524015",
     "status": "completed"
    },
    "tags": []
   },
   "source": [
    "---\n",
    "\n",
    "\n",
    "\n",
    "\n",
    "*Have questions or comments? Visit the [course discussion forum](https://www.kaggle.com/learn/intro-to-sql/discussion) to chat with other learners.*"
   ]
  }
 ],
 "metadata": {
  "kernelspec": {
   "display_name": "Python 3",
   "language": "python",
   "name": "python3"
  },
  "language_info": {
   "codemirror_mode": {
    "name": "ipython",
    "version": 3
   },
   "file_extension": ".py",
   "mimetype": "text/x-python",
   "name": "python",
   "nbconvert_exporter": "python",
   "pygments_lexer": "ipython3",
   "version": "3.10.12"
  },
  "papermill": {
   "default_parameters": {},
   "duration": 16.513274,
   "end_time": "2023-07-25T17:06:01.570536",
   "environment_variables": {},
   "exception": null,
   "input_path": "__notebook__.ipynb",
   "output_path": "__notebook__.ipynb",
   "parameters": {},
   "start_time": "2023-07-25T17:05:45.057262",
   "version": "2.4.0"
  }
 },
 "nbformat": 4,
 "nbformat_minor": 5
}
